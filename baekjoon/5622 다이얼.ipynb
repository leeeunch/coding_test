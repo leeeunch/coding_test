{
 "cells": [
  {
   "cell_type": "markdown",
   "id": "39e725d0",
   "metadata": {},
   "source": [
    "근이의 할머니는 아래 그림과 같이 오래된 다이얼 전화기를 사용한다.\n",
    "\n",
    "전화를 걸고 싶은 번호가 있다면, 숫자를 하나를 누른 다음에 금속 핀이 있는 곳 까지 시계방향으로 돌려야 한다. 숫자를 하나 누르면 다이얼이 처음 위치로 돌아가고, 다음 숫자를 누르려면 다이얼을 처음 위치에서 다시 돌려야 한다.\n",
    "\n",
    "숫자 1을 걸려면 총 2초가 필요하다. 1보다 큰 수를 거는데 걸리는 시간은 이보다 더 걸리며, 한 칸 옆에 있는 숫자를 걸기 위해선 1초씩 더 걸린다.\n",
    "\n",
    "상근이의 할머니는 전화 번호를 각 숫자에 해당하는 문자로 외운다. 즉, 어떤 단어를 걸 때, 각 알파벳에 해당하는 숫자를 걸면 된다. 예를 들어, UNUCIC는 868242와 같다.\n",
    "\n",
    "할머니가 외운 단어가 주어졌을 때, 이 전화를 걸기 위해서 필요한 최소 시간을 구하는 프로그램을 작성하시오."
   ]
  },
  {
   "cell_type": "code",
   "execution_count": 19,
   "id": "7de6e131",
   "metadata": {},
   "outputs": [
    {
     "name": "stdout",
     "output_type": "stream",
     "text": [
      "WA\n",
      "13\n"
     ]
    }
   ],
   "source": [
    "word = input()\n",
    "s = 'ABCDEFGHIJKLMNOPQRSTUVWXYZ'\n",
    "dial = {}\n",
    "\n",
    "for i in range(2,10):\n",
    "    if i == 7 or i == 9:\n",
    "        dial[i] = s[0:4]\n",
    "        s = s[4:]\n",
    "    else:\n",
    "        dial[i] = s[0:3]\n",
    "        s = s[3:]\n",
    "\n",
    "time = 0\n",
    "for i in word:\n",
    "    for j in range(2,10):\n",
    "         if i in dial[j]:\n",
    "            time += j+1\n",
    "print(time)"
   ]
  }
 ],
 "metadata": {
  "kernelspec": {
   "display_name": "Python 3",
   "language": "python",
   "name": "python3"
  },
  "language_info": {
   "codemirror_mode": {
    "name": "ipython",
    "version": 3
   },
   "file_extension": ".py",
   "mimetype": "text/x-python",
   "name": "python",
   "nbconvert_exporter": "python",
   "pygments_lexer": "ipython3",
   "version": "3.8.8"
  },
  "toc": {
   "base_numbering": 1,
   "nav_menu": {},
   "number_sections": true,
   "sideBar": true,
   "skip_h1_title": false,
   "title_cell": "Table of Contents",
   "title_sidebar": "Contents",
   "toc_cell": false,
   "toc_position": {},
   "toc_section_display": true,
   "toc_window_display": false
  }
 },
 "nbformat": 4,
 "nbformat_minor": 5
}
