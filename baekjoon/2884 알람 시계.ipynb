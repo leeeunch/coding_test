{
 "cells": [
  {
   "cell_type": "markdown",
   "id": "d64c8369",
   "metadata": {},
   "source": [
    "45분 일찍 알람 설정되는 알람 시계 만들기"
   ]
  },
  {
   "cell_type": "code",
   "execution_count": 30,
   "id": "0a351d14",
   "metadata": {},
   "outputs": [
    {
     "name": "stdout",
     "output_type": "stream",
     "text": [
      "23 40\n",
      "22 55\n"
     ]
    }
   ],
   "source": [
    "hour, minute = map(int,input().split())\n",
    "alarm_minute = 0\n",
    "alarm_hour = 0\n",
    "\n",
    "if minute < 45:\n",
    "    alarm_minute = minute + 60 - 45\n",
    "    if hour == 0:\n",
    "        alarm_hour = 23\n",
    "    else:\n",
    "        alarm_hour = hour - 1\n",
    "else:\n",
    "    alarm_minute = minute - 45\n",
    "    alarm_hour = hour\n",
    "\n",
    "print(alarm_hour, alarm_minute)"
   ]
  }
 ],
 "metadata": {
  "kernelspec": {
   "display_name": "Python 3",
   "language": "python",
   "name": "python3"
  },
  "language_info": {
   "codemirror_mode": {
    "name": "ipython",
    "version": 3
   },
   "file_extension": ".py",
   "mimetype": "text/x-python",
   "name": "python",
   "nbconvert_exporter": "python",
   "pygments_lexer": "ipython3",
   "version": "3.8.8"
  },
  "toc": {
   "base_numbering": 1,
   "nav_menu": {},
   "number_sections": true,
   "sideBar": true,
   "skip_h1_title": false,
   "title_cell": "Table of Contents",
   "title_sidebar": "Contents",
   "toc_cell": false,
   "toc_position": {},
   "toc_section_display": true,
   "toc_window_display": false
  }
 },
 "nbformat": 4,
 "nbformat_minor": 5
}
