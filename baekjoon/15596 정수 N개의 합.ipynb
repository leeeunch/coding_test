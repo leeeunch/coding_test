{
 "cells": [
  {
   "cell_type": "markdown",
   "id": "0ffacf4e",
   "metadata": {},
   "source": [
    "정수 n개가 주어졌을 때, n개의 합을 구하는 함수를 작성하시오."
   ]
  },
  {
   "cell_type": "code",
   "execution_count": null,
   "id": "39c5fd61",
   "metadata": {},
   "outputs": [],
   "source": [
    "def solve(n):\n",
    "    return sum([i for i in n])\n",
    "\n",
    "while True:\n",
    "    try:\n",
    "        n = [int(x) for x in input().split()]\n",
    "        solve(n)\n",
    "\n",
    "    except EOFError:\n",
    "        break"
   ]
  }
 ],
 "metadata": {
  "kernelspec": {
   "display_name": "Python 3",
   "language": "python",
   "name": "python3"
  },
  "language_info": {
   "codemirror_mode": {
    "name": "ipython",
    "version": 3
   },
   "file_extension": ".py",
   "mimetype": "text/x-python",
   "name": "python",
   "nbconvert_exporter": "python",
   "pygments_lexer": "ipython3",
   "version": "3.8.8"
  },
  "toc": {
   "base_numbering": 1,
   "nav_menu": {},
   "number_sections": true,
   "sideBar": true,
   "skip_h1_title": false,
   "title_cell": "Table of Contents",
   "title_sidebar": "Contents",
   "toc_cell": false,
   "toc_position": {},
   "toc_section_display": true,
   "toc_window_display": false
  }
 },
 "nbformat": 4,
 "nbformat_minor": 5
}
