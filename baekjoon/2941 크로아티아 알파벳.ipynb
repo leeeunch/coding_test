{
 "cells": [
  {
   "cell_type": "markdown",
   "id": "57648f14",
   "metadata": {},
   "source": [
    "예전에는 운영체제에서 크로아티아 알파벳을 입력할 수가 없었다. 따라서 다음과 같이 크로아티아 알파벳을 변경해서 입력했다.\n",
    "\n",
    "예를 들어, ljes=njak은 크로아티아 알파벳 6개(lj, e, š, nj, a, k)로 이루어져 있다. 단어가 주어졌을 때, 몇 개의 크로아티아 알파벳으로 이루어져 있는지 출력한다.\n",
    "\n",
    "dž는 무조건 하나의 알파벳으로 쓰이고, d와 ž가 분리된 것으로 보지 않는다. lj와 nj도 마찬가지이다. 위 목록에 없는 알파벳은 한 글자씩 센다."
   ]
  },
  {
   "cell_type": "code",
   "execution_count": 16,
   "id": "4ced43df",
   "metadata": {},
   "outputs": [
    {
     "name": "stdout",
     "output_type": "stream",
     "text": [
      "c=c=\n",
      "2\n"
     ]
    }
   ],
   "source": [
    "alpha = input()\n",
    "count = 0\n",
    "\n",
    "croatia = ['c=','c-','dz=','d-','lj','nj','s=','z=']\n",
    "for i in croatia:\n",
    "    if i in alpha:\n",
    "        count += alpha.count(i)\n",
    "        alpha = alpha.replace(i,\" \")\n",
    "\n",
    "print(count + len(alpha.replace(\" \",\"\")))"
   ]
  }
 ],
 "metadata": {
  "kernelspec": {
   "display_name": "Python 3",
   "language": "python",
   "name": "python3"
  },
  "language_info": {
   "codemirror_mode": {
    "name": "ipython",
    "version": 3
   },
   "file_extension": ".py",
   "mimetype": "text/x-python",
   "name": "python",
   "nbconvert_exporter": "python",
   "pygments_lexer": "ipython3",
   "version": "3.8.8"
  },
  "toc": {
   "base_numbering": 1,
   "nav_menu": {},
   "number_sections": true,
   "sideBar": true,
   "skip_h1_title": false,
   "title_cell": "Table of Contents",
   "title_sidebar": "Contents",
   "toc_cell": false,
   "toc_position": {},
   "toc_section_display": true,
   "toc_window_display": false
  }
 },
 "nbformat": 4,
 "nbformat_minor": 5
}
