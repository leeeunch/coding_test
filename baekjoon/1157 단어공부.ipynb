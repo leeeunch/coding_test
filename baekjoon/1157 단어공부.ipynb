{
 "cells": [
  {
   "cell_type": "markdown",
   "id": "f2cc61f0",
   "metadata": {},
   "source": [
    "알파벳 대소문자로 된 단어가 주어지면, 이 단어에서 가장 많이 사용된 알파벳이 무엇인지 알아내는 프로그램을 작성하시오. 단, 대문자와 소문자를 구분하지 않는다."
   ]
  },
  {
   "cell_type": "code",
   "execution_count": 6,
   "id": "0b23e510",
   "metadata": {},
   "outputs": [
    {
     "name": "stdout",
     "output_type": "stream",
     "text": [
      "zZa\n",
      "Z\n"
     ]
    }
   ],
   "source": [
    "alpha = input()\n",
    "alpha = alpha.lower()\n",
    "\n",
    "count_str = [alpha.count(i) for i in ''.join(dict.fromkeys(alpha))]\n",
    "if count_str.count(max(count_str)) != 1:\n",
    "    print('?')\n",
    "else:\n",
    "    print(''.join(dict.fromkeys(alpha))[count_str.index(max(count_str))].upper())"
   ]
  }
 ],
 "metadata": {
  "kernelspec": {
   "display_name": "Python 3",
   "language": "python",
   "name": "python3"
  },
  "language_info": {
   "codemirror_mode": {
    "name": "ipython",
    "version": 3
   },
   "file_extension": ".py",
   "mimetype": "text/x-python",
   "name": "python",
   "nbconvert_exporter": "python",
   "pygments_lexer": "ipython3",
   "version": "3.8.8"
  },
  "toc": {
   "base_numbering": 1,
   "nav_menu": {},
   "number_sections": true,
   "sideBar": true,
   "skip_h1_title": false,
   "title_cell": "Table of Contents",
   "title_sidebar": "Contents",
   "toc_cell": false,
   "toc_position": {},
   "toc_section_display": true,
   "toc_window_display": false
  }
 },
 "nbformat": 4,
 "nbformat_minor": 5
}
