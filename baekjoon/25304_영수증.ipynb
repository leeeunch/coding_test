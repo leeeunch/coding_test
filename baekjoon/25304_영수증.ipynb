{
  "nbformat": 4,
  "nbformat_minor": 0,
  "metadata": {
    "colab": {
      "provenance": []
    },
    "kernelspec": {
      "name": "python3",
      "display_name": "Python 3"
    },
    "language_info": {
      "name": "python"
    }
  },
  "cells": [
    {
      "cell_type": "markdown",
      "source": [
        "# 정답"
      ],
      "metadata": {
        "id": "29TdXeObhO4z"
      }
    },
    {
      "cell_type": "code",
      "source": [
        "X = int(input())\n",
        "N = int(input())\n",
        "\n",
        "for _ in range(N):\n",
        "  price, count = map(int, input().split(' '))\n",
        "  X -= price*count\n",
        "\n",
        "if X:\n",
        "  print('No')\n",
        "else:\n",
        "  print('Yes')"
      ],
      "metadata": {
        "colab": {
          "base_uri": "https://localhost:8080/"
        },
        "id": "lvuTZgS4hRhm",
        "outputId": "d8a41d7e-5edd-42da-c5bb-053b40db059c"
      },
      "execution_count": 8,
      "outputs": [
        {
          "output_type": "stream",
          "name": "stdout",
          "text": [
            "2500\n",
            "2\n",
            "2000 1\n",
            "100 5\n",
            "Yes\n"
          ]
        }
      ]
    },
    {
      "cell_type": "markdown",
      "source": [
        "# 풀이과정"
      ],
      "metadata": {
        "id": "A5aRc1FshKZ2"
      }
    },
    {
      "cell_type": "code",
      "execution_count": 1,
      "metadata": {
        "colab": {
          "base_uri": "https://localhost:8080/"
        },
        "id": "Wh2l_zfqd_Dc",
        "outputId": "ee4e29fb-8b08-40d3-e382-f69c138ea542"
      },
      "outputs": [
        {
          "name": "stdout",
          "output_type": "stream",
          "text": [
            "26000\n",
            "4\n"
          ]
        }
      ],
      "source": [
        "X = int(int, input())\n",
        "N = int(input())"
      ]
    },
    {
      "cell_type": "code",
      "source": [
        "a,b = map(int, input().split(' '))"
      ],
      "metadata": {
        "colab": {
          "base_uri": "https://localhost:8080/"
        },
        "id": "FeIIEQm3eaKr",
        "outputId": "4a3d093c-30e2-4d15-eee6-b5621b33eff2"
      },
      "execution_count": 2,
      "outputs": [
        {
          "name": "stdout",
          "output_type": "stream",
          "text": [
            "1 2\n"
          ]
        }
      ]
    },
    {
      "cell_type": "code",
      "source": [
        "print(a,b)"
      ],
      "metadata": {
        "colab": {
          "base_uri": "https://localhost:8080/"
        },
        "id": "sPRviTb7fG9F",
        "outputId": "9633fcf4-0154-4aaa-fc78-aa1df1ea0c1d"
      },
      "execution_count": 3,
      "outputs": [
        {
          "output_type": "stream",
          "name": "stdout",
          "text": [
            "1 2\n"
          ]
        }
      ]
    },
    {
      "cell_type": "code",
      "source": [
        "X = int(input())\n",
        "N = int(input())\n",
        "\n",
        "for _ in range(N):\n",
        "  price, count = map(int, input().split(' '))\n",
        "  X -= price*count\n",
        "\n",
        "if X:\n",
        "  print('No')\n",
        "else:\n",
        "  print('Yes')"
      ],
      "metadata": {
        "colab": {
          "base_uri": "https://localhost:8080/"
        },
        "id": "oNtkmUbhewwl",
        "outputId": "7f7c4c35-0217-4a18-a47e-0d235791ff7f"
      },
      "execution_count": 6,
      "outputs": [
        {
          "output_type": "stream",
          "name": "stdout",
          "text": [
            "26000\n",
            "4\n",
            "2000 5\n",
            "3000 2\n",
            "1000 6\n",
            "500 8\n",
            "Yes\n"
          ]
        }
      ]
    },
    {
      "cell_type": "code",
      "source": [
        "X = int(int, input())\n",
        "N = int(input())\n",
        "\n",
        "(lambda x,y: x * y)(x에 넣을 값, y에 넣을 값)"
      ],
      "metadata": {
        "id": "0663FeO7fpXB"
      },
      "execution_count": null,
      "outputs": []
    }
  ]
}