{
 "cells": [
  {
   "cell_type": "markdown",
   "id": "83d3779c",
   "metadata": {},
   "source": [
    "카드 n장을 뽑는다\n",
    "\n",
    "그 중 3장을 뽑는다. (카드는 모두 공개됨)\n",
    "\n",
    "3장의 카드의 합은 m을 넘지 않으면서 가장 가까워야 한다."
   ]
  },
  {
   "cell_type": "code",
   "execution_count": 23,
   "id": "46e4aad5",
   "metadata": {},
   "outputs": [
    {
     "name": "stdout",
     "output_type": "stream",
     "text": [
      "5 21\n",
      "5 6 7 8 9\n",
      "\n",
      "21\n"
     ]
    }
   ],
   "source": [
    "from itertools import combinations\n",
    "n,m = map(int, input().split())\n",
    "n_list = map(int, input().split())\n",
    "\n",
    "hap = list(set([sum(i) for i in list(combinations(n_list,3)) if sum(i) <= m]))\n",
    "cha = list(map(lambda x:m-x, hap))\n",
    "\n",
    "print(hap[cha.index(min(cha))])"
   ]
  }
 ],
 "metadata": {
  "kernelspec": {
   "display_name": "Python 3",
   "language": "python",
   "name": "python3"
  },
  "language_info": {
   "codemirror_mode": {
    "name": "ipython",
    "version": 3
   },
   "file_extension": ".py",
   "mimetype": "text/x-python",
   "name": "python",
   "nbconvert_exporter": "python",
   "pygments_lexer": "ipython3",
   "version": "3.8.8"
  },
  "toc": {
   "base_numbering": 1,
   "nav_menu": {},
   "number_sections": true,
   "sideBar": true,
   "skip_h1_title": false,
   "title_cell": "Table of Contents",
   "title_sidebar": "Contents",
   "toc_cell": false,
   "toc_position": {},
   "toc_section_display": true,
   "toc_window_display": false
  }
 },
 "nbformat": 4,
 "nbformat_minor": 5
}
