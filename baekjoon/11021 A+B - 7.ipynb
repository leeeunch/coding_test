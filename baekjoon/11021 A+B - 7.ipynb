{
 "cells": [
  {
   "cell_type": "markdown",
   "id": "98844cf7",
   "metadata": {},
   "source": [
    "두 정수 A와 B를 입력받은 다음, A+B를 출력하는 프로그램을 작성하시오."
   ]
  },
  {
   "cell_type": "code",
   "execution_count": 3,
   "id": "f1f294ba",
   "metadata": {},
   "outputs": [
    {
     "name": "stdout",
     "output_type": "stream",
     "text": [
      "5\n",
      "1 1\n",
      "2 3\n",
      "3 4\n",
      "4 5\n",
      "5 5\n",
      "Case #1:  2\n",
      "Case #2:  5\n",
      "Case #3:  7\n",
      "Case #4:  9\n",
      "Case #5:  10\n"
     ]
    }
   ],
   "source": [
    "T = int(input())\n",
    "\n",
    "test_case = [list(map(int,input().split())) for _ in range(T)]\n",
    "for i in range(len(test_case)):\n",
    "    print(\"Case #{}:\".format(i+1), sum(test_case[i]))"
   ]
  }
 ],
 "metadata": {
  "kernelspec": {
   "display_name": "Python 3",
   "language": "python",
   "name": "python3"
  },
  "language_info": {
   "codemirror_mode": {
    "name": "ipython",
    "version": 3
   },
   "file_extension": ".py",
   "mimetype": "text/x-python",
   "name": "python",
   "nbconvert_exporter": "python",
   "pygments_lexer": "ipython3",
   "version": "3.8.8"
  },
  "toc": {
   "base_numbering": 1,
   "nav_menu": {},
   "number_sections": true,
   "sideBar": true,
   "skip_h1_title": false,
   "title_cell": "Table of Contents",
   "title_sidebar": "Contents",
   "toc_cell": false,
   "toc_position": {},
   "toc_section_display": true,
   "toc_window_display": false
  }
 },
 "nbformat": 4,
 "nbformat_minor": 5
}
