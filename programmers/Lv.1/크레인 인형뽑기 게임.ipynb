{
 "cells": [
  {
   "cell_type": "markdown",
   "id": "fc3d045c",
   "metadata": {},
   "source": [
    "만약 같은 모양의 인형 두 개가 바구니에서 연속해서 쌓이게 되면 두 인형은 터뜨려지면서 바구니에서 사라짐\n",
    "크레인 작동 시 인형이 집어지지 않는 경우는 없으나 만약 인형이 없는 곳에서 크레인을 작동시키는 경우에는 아무런 일도 일어나지 않음\n",
    "바구니는 인형이 들어갈 만큼 충분히 크다\n",
    "* board\n",
    ": 게임 화면의 격자 상태가 담긴 2차원 배열\n",
    "* moves\n",
    ": 인형을 잡기 위해 크레인을 작동시킨 위치가 담긴 배열\n",
    "크레인을 모두 작동시킨 후 터뜨려져 사라진 인형의 개수를 return 하는 함수를 완성하라\n",
    "\n",
    "0은 빈칸\n",
    "1이상의 수는 각 인형의 모양\n",
    "같은 숫자는 같은 모양"
   ]
  },
  {
   "cell_type": "code",
   "execution_count": 20,
   "id": "97589847",
   "metadata": {},
   "outputs": [],
   "source": [
    "def solution(a, b):\n",
    "    result = [0]\n",
    "    count = 0\n",
    "    for i in b:\n",
    "        i = i-1\n",
    "        for j in range(len(a[0])):\n",
    "            if a[j][i] == 0:\n",
    "                pass\n",
    "            else:\n",
    "                if result[-1] == a[j][i]:\n",
    "                    result.pop(-1)\n",
    "                    a[j][i] = 0\n",
    "                    count += 2\n",
    "                else:\n",
    "                    result.append(a[j][i])\n",
    "                    a[j][i] = 0\n",
    "                break\n",
    "    return count"
   ]
  },
  {
   "cell_type": "code",
   "execution_count": 21,
   "id": "c1e0c604",
   "metadata": {},
   "outputs": [
    {
     "data": {
      "text/plain": [
       "4"
      ]
     },
     "execution_count": 21,
     "metadata": {},
     "output_type": "execute_result"
    }
   ],
   "source": [
    "solution([[0,0,0,0,0],[0,0,1,0,3],[0,2,5,0,1],[4,2,4,4,2],[3,5,1,3,1]],[1,5,3,5,1,2,1,4])"
   ]
  }
 ],
 "metadata": {
  "kernelspec": {
   "display_name": "Python 3",
   "language": "python",
   "name": "python3"
  },
  "language_info": {
   "codemirror_mode": {
    "name": "ipython",
    "version": 3
   },
   "file_extension": ".py",
   "mimetype": "text/x-python",
   "name": "python",
   "nbconvert_exporter": "python",
   "pygments_lexer": "ipython3",
   "version": "3.8.8"
  },
  "toc": {
   "base_numbering": 1,
   "nav_menu": {},
   "number_sections": true,
   "sideBar": true,
   "skip_h1_title": false,
   "title_cell": "Table of Contents",
   "title_sidebar": "Contents",
   "toc_cell": false,
   "toc_position": {},
   "toc_section_display": true,
   "toc_window_display": false
  }
 },
 "nbformat": 4,
 "nbformat_minor": 5
}
