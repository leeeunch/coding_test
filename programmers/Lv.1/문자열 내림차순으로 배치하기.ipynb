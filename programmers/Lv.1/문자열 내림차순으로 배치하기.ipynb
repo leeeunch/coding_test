{
 "cells": [
  {
   "cell_type": "markdown",
   "id": "46d4c489",
   "metadata": {},
   "source": [
    "문자열 s에 나타나는 문자를 큰것부터 작은 순으로 정렬해 새로운 문자열을 리턴하는 함수, solution을 완성해주세요.\n",
    "s는 영문 대소문자로만 구성되어 있으며, 대문자는 소문자보다 작은 것으로 간주합니다."
   ]
  },
  {
   "cell_type": "code",
   "execution_count": 40,
   "id": "da5902fe",
   "metadata": {},
   "outputs": [],
   "source": [
    "def solution(n):\n",
    "    trans = [ord(i) for i in n]\n",
    "    trans.sort(reverse = True)\n",
    "    return ''.join([chr(i) for i in trans if i >= 97] + [chr(i) for i in trans if i < 97])"
   ]
  },
  {
   "cell_type": "code",
   "execution_count": 41,
   "id": "c2500da2",
   "metadata": {},
   "outputs": [
    {
     "data": {
      "text/plain": [
       "'xsdbbaQN'"
      ]
     },
     "execution_count": 41,
     "metadata": {},
     "output_type": "execute_result"
    }
   ],
   "source": [
    "solution('abxdNbsQ')"
   ]
  }
 ],
 "metadata": {
  "kernelspec": {
   "display_name": "Python 3",
   "language": "python",
   "name": "python3"
  },
  "language_info": {
   "codemirror_mode": {
    "name": "ipython",
    "version": 3
   },
   "file_extension": ".py",
   "mimetype": "text/x-python",
   "name": "python",
   "nbconvert_exporter": "python",
   "pygments_lexer": "ipython3",
   "version": "3.8.8"
  },
  "toc": {
   "base_numbering": 1,
   "nav_menu": {},
   "number_sections": true,
   "sideBar": true,
   "skip_h1_title": false,
   "title_cell": "Table of Contents",
   "title_sidebar": "Contents",
   "toc_cell": false,
   "toc_position": {},
   "toc_section_display": true,
   "toc_window_display": false
  }
 },
 "nbformat": 4,
 "nbformat_minor": 5
}
