{
 "cells": [
  {
   "cell_type": "markdown",
   "id": "5ec6ec35",
   "metadata": {},
   "source": [
    "1부터 입력받은 숫자 n 사이에 있는 소수의 개수를 반환하는 함수, solution을 만들어 보세요.\n",
    "\n",
    "소수는 1과 자기 자신으로만 나누어지는 수를 의미합니다. (1은 소수가 아닙니다.)"
   ]
  },
  {
   "cell_type": "code",
   "execution_count": 1,
   "id": "6b79ee5a",
   "metadata": {},
   "outputs": [],
   "source": [
    "import math\n",
    "def solution(n):\n",
    "    array = [True] * (n+1)\n",
    "    for i in range(2, int(math.sqrt(n))+1):\n",
    "        if array[i] == True:\n",
    "            j = 2\n",
    "            while i * j <= n:\n",
    "                array[i*j] = False\n",
    "                j += 1\n",
    "                \n",
    "    return sum([1 for i in range(2,n+1) if array[i] == True])"
   ]
  },
  {
   "cell_type": "code",
   "execution_count": 2,
   "id": "9caf6144",
   "metadata": {},
   "outputs": [
    {
     "data": {
      "text/plain": [
       "3"
      ]
     },
     "execution_count": 2,
     "metadata": {},
     "output_type": "execute_result"
    }
   ],
   "source": [
    "solution(5)"
   ]
  }
 ],
 "metadata": {
  "kernelspec": {
   "display_name": "Python 3",
   "language": "python",
   "name": "python3"
  },
  "language_info": {
   "codemirror_mode": {
    "name": "ipython",
    "version": 3
   },
   "file_extension": ".py",
   "mimetype": "text/x-python",
   "name": "python",
   "nbconvert_exporter": "python",
   "pygments_lexer": "ipython3",
   "version": "3.8.8"
  },
  "toc": {
   "base_numbering": 1,
   "nav_menu": {},
   "number_sections": true,
   "sideBar": true,
   "skip_h1_title": false,
   "title_cell": "Table of Contents",
   "title_sidebar": "Contents",
   "toc_cell": false,
   "toc_position": {},
   "toc_section_display": true,
   "toc_window_display": false
  }
 },
 "nbformat": 4,
 "nbformat_minor": 5
}
