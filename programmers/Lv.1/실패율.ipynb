{
 "cells": [
  {
   "cell_type": "markdown",
   "id": "d2c1f5fd",
   "metadata": {},
   "source": [
    "실패율 : 스테이지에 도달했으나 아직 클리어하지 못한 플레이어의 수/스테이지에 도달한 플레이어 수\n",
    "\n",
    "전체 스테이지 수 : N\n",
    "\n",
    "사용자가 현재 멈춰있는 스테이지의 번호가 담긴 배열 : stages\n",
    "\n",
    "solution : 실패율이 높은 스테이지부터 내림차순으로 스테이지 배열 정렬하여 return"
   ]
  },
  {
   "cell_type": "code",
   "execution_count": 9,
   "id": "db2a6405",
   "metadata": {},
   "outputs": [],
   "source": [
    "def solution(N, stages):\n",
    "    import numpy as np\n",
    "    np_stage = np.array(stages)\n",
    "    fault_rate = {}\n",
    "    for i in range(1,N+1):\n",
    "        if len(np_stage[np_stage >= i]) == 0:\n",
    "            fault_rate[i] = 0\n",
    "        else:\n",
    "            fault_rate[i] = len(np_stage[np_stage == i])/len(np_stage[np_stage >= i])\n",
    "    return [i[0] for i in sorted(fault_rate.items(), key = lambda x:x[1], reverse = True)]"
   ]
  },
  {
   "cell_type": "code",
   "execution_count": 10,
   "id": "71e8017a",
   "metadata": {},
   "outputs": [
    {
     "name": "stdout",
     "output_type": "stream",
     "text": [
      "[3, 4, 2, 1, 5]\n",
      "[4, 1, 2, 3]\n"
     ]
    }
   ],
   "source": [
    "print(solution(5, [2, 1, 2, 6, 2, 4, 3, 3]))\n",
    "print(solution(4, [4,4,4,4,4]))"
   ]
  }
 ],
 "metadata": {
  "kernelspec": {
   "display_name": "Python 3",
   "language": "python",
   "name": "python3"
  },
  "language_info": {
   "codemirror_mode": {
    "name": "ipython",
    "version": 3
   },
   "file_extension": ".py",
   "mimetype": "text/x-python",
   "name": "python",
   "nbconvert_exporter": "python",
   "pygments_lexer": "ipython3",
   "version": "3.8.8"
  },
  "toc": {
   "base_numbering": 1,
   "nav_menu": {},
   "number_sections": true,
   "sideBar": true,
   "skip_h1_title": false,
   "title_cell": "Table of Contents",
   "title_sidebar": "Contents",
   "toc_cell": false,
   "toc_position": {},
   "toc_section_display": true,
   "toc_window_display": false
  }
 },
 "nbformat": 4,
 "nbformat_minor": 5
}
