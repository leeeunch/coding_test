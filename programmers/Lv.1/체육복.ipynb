{
 "cells": [
  {
   "cell_type": "code",
   "execution_count": 13,
   "id": "89715f91",
   "metadata": {},
   "outputs": [],
   "source": [
    "def solution(n,lost,reserve):\n",
    "    lost = set(lost)-set(reserve)\n",
    "    lost_len = len(lost)\n",
    "    reserve = set(reserve)-set(lost)\n",
    "    for i in lost:\n",
    "        if i+1 in reserve:\n",
    "            lost_len -= 1\n",
    "            reserve.remove(i+1)\n",
    "        elif i-1 in reserve:\n",
    "            lost_len -= 1\n",
    "            reserve.remove(i-1)\n",
    "    return n-lost_len"
   ]
  },
  {
   "cell_type": "code",
   "execution_count": 15,
   "id": "a646cf64",
   "metadata": {},
   "outputs": [
    {
     "name": "stdout",
     "output_type": "stream",
     "text": [
      "2\n",
      "10\n"
     ]
    }
   ],
   "source": [
    "print(solution(3,[3],[1]))\n",
    "print(solution(10,[2,3,5,9],[1,4,6,9]))"
   ]
  }
 ],
 "metadata": {
  "kernelspec": {
   "display_name": "Python 3",
   "language": "python",
   "name": "python3"
  },
  "language_info": {
   "codemirror_mode": {
    "name": "ipython",
    "version": 3
   },
   "file_extension": ".py",
   "mimetype": "text/x-python",
   "name": "python",
   "nbconvert_exporter": "python",
   "pygments_lexer": "ipython3",
   "version": "3.8.8"
  },
  "toc": {
   "base_numbering": 1,
   "nav_menu": {},
   "number_sections": true,
   "sideBar": true,
   "skip_h1_title": false,
   "title_cell": "Table of Contents",
   "title_sidebar": "Contents",
   "toc_cell": false,
   "toc_position": {},
   "toc_section_display": true,
   "toc_window_display": false
  }
 },
 "nbformat": 4,
 "nbformat_minor": 5
}
