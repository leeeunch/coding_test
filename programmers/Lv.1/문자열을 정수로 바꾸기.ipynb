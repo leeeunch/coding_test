{
 "cells": [
  {
   "cell_type": "markdown",
   "id": "9270b385",
   "metadata": {},
   "source": [
    "문자열 s를 숫자로 변환한 결과를 반환하는 함수를 완성하세요."
   ]
  },
  {
   "cell_type": "code",
   "execution_count": 1,
   "id": "c2816ff9",
   "metadata": {},
   "outputs": [],
   "source": [
    "def solution(s):\n",
    "    answer = 0\n",
    "    mark = ['+', '-']\n",
    "    list_s = list(s)\n",
    "    if list_s[0] == '-': \n",
    "        list_s.remove('-')\n",
    "        list_int = [int(i) for i in list_s]\n",
    "        for i in range(len(list_int)):\n",
    "            answer += list_int[i]*10**(len(list_int)-i-1) \n",
    "        return -answer\n",
    "    elif list_s[0] == '+':\n",
    "        list_s.remove('+')\n",
    "        list_int = [int(i) for i in list_s]\n",
    "        for i in range(len(list_int)):\n",
    "            answer += list_int[i]*10**(len(list_int)-i-1) \n",
    "        return +answer\n",
    "    else:\n",
    "        list_int = [int(i) for i in list_s]\n",
    "        for i in range(len(list_int)):\n",
    "            answer += list_int[i]*10**(len(list_int)-i-1) \n",
    "        return answer"
   ]
  },
  {
   "cell_type": "code",
   "execution_count": 58,
   "id": "a34bb948",
   "metadata": {},
   "outputs": [
    {
     "data": {
      "text/plain": [
       "False"
      ]
     },
     "execution_count": 58,
     "metadata": {},
     "output_type": "execute_result"
    }
   ],
   "source": [
    "solution('-02345')"
   ]
  }
 ],
 "metadata": {
  "kernelspec": {
   "display_name": "Python 3",
   "language": "python",
   "name": "python3"
  },
  "language_info": {
   "codemirror_mode": {
    "name": "ipython",
    "version": 3
   },
   "file_extension": ".py",
   "mimetype": "text/x-python",
   "name": "python",
   "nbconvert_exporter": "python",
   "pygments_lexer": "ipython3",
   "version": "3.8.8"
  },
  "toc": {
   "base_numbering": 1,
   "nav_menu": {},
   "number_sections": true,
   "sideBar": true,
   "skip_h1_title": false,
   "title_cell": "Table of Contents",
   "title_sidebar": "Contents",
   "toc_cell": false,
   "toc_position": {},
   "toc_section_display": true,
   "toc_window_display": false
  }
 },
 "nbformat": 4,
 "nbformat_minor": 5
}
