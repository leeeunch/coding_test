{
 "cells": [
  {
   "cell_type": "code",
   "execution_count": 79,
   "id": "4b3b874b",
   "metadata": {},
   "outputs": [],
   "source": [
    "def solution(n, arr1, arr2):\n",
    "    def binary(n, su):\n",
    "        remainder = []\n",
    "        while su != 0:\n",
    "            remainder.append(su%2)\n",
    "            su = su//2\n",
    "\n",
    "        if len(remainder) != n:\n",
    "            for i in range(n-len(remainder)):\n",
    "                remainder.append(0)\n",
    "\n",
    "        list.reverse(remainder)\n",
    "        return remainder\n",
    "      \n",
    "    arr1_binary = [binary(n,i) for i in arr1]\n",
    "    arr2_binary = [binary(n,i) for i in arr2]\n",
    "\n",
    "    result = []\n",
    "    for i in range(n):\n",
    "        trans = ''\n",
    "        for j in range(n):\n",
    "            if arr1_binary[i][j] == 0 and arr2_binary[i][j] == 0:\n",
    "                trans += ' '\n",
    "            else:\n",
    "                trans += '#'\n",
    "        result.append(trans)\n",
    "    \n",
    "    return result"
   ]
  },
  {
   "cell_type": "code",
   "execution_count": 80,
   "id": "e05dd26c",
   "metadata": {},
   "outputs": [
    {
     "name": "stdout",
     "output_type": "stream",
     "text": [
      "['#####', '# # #', '### #', '#  ##', '#####']\n",
      "['######', '###  #', '##  ##', ' #### ', ' #####', '### # ']\n"
     ]
    }
   ],
   "source": [
    "print(solution(5, [9, 20, 28, 18, 11], [30, 1, 21, 17, 28]))\n",
    "print(solution(6, [46, 33, 33 ,22, 31, 50], [27 ,56, 19, 14, 14, 10]))"
   ]
  }
 ],
 "metadata": {
  "kernelspec": {
   "display_name": "Python 3",
   "language": "python",
   "name": "python3"
  },
  "language_info": {
   "codemirror_mode": {
    "name": "ipython",
    "version": 3
   },
   "file_extension": ".py",
   "mimetype": "text/x-python",
   "name": "python",
   "nbconvert_exporter": "python",
   "pygments_lexer": "ipython3",
   "version": "3.8.8"
  },
  "toc": {
   "base_numbering": 1,
   "nav_menu": {},
   "number_sections": true,
   "sideBar": true,
   "skip_h1_title": false,
   "title_cell": "Table of Contents",
   "title_sidebar": "Contents",
   "toc_cell": false,
   "toc_position": {},
   "toc_section_display": true,
   "toc_window_display": false
  }
 },
 "nbformat": 4,
 "nbformat_minor": 5
}
