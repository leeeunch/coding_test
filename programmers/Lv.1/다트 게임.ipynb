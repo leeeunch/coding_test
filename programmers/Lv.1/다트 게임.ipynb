{
 "cells": [
  {
   "cell_type": "code",
   "execution_count": 64,
   "id": "2deda5d1",
   "metadata": {},
   "outputs": [],
   "source": [
    "def solution(dart):\n",
    "    result = []\n",
    "    for i in range(len(dart)):\n",
    "        if dart[i].isdigit():\n",
    "            if dart[i] == '1' and dart[i+1] == '0':\n",
    "                result.append(10)\n",
    "            elif dart[i] == '0' and dart[i-1] == '1':\n",
    "                pass\n",
    "            else:\n",
    "                result.append(int(dart[i]))\n",
    "        elif dart[i].isalpha():\n",
    "            if dart[i] == 'D':\n",
    "                result[-1] = result[-1]**2\n",
    "            elif dart[i] == 'T':\n",
    "                result[-1] = result[-1]**3\n",
    "        else:\n",
    "            if dart[i] == '*':\n",
    "                if len(result) == 1:\n",
    "                    result[0] = result[0]*2\n",
    "                else:\n",
    "                    result[-1] = result[-1]*2\n",
    "                    result[-2] = result[-2]*2\n",
    "            else:\n",
    "                result[-1] = -result[-1]\n",
    "    return sum(result)"
   ]
  },
  {
   "cell_type": "code",
   "execution_count": 65,
   "id": "d6783bc3",
   "metadata": {},
   "outputs": [
    {
     "name": "stdout",
     "output_type": "stream",
     "text": [
      "37\n",
      "9\n",
      "3\n",
      "23\n"
     ]
    }
   ],
   "source": [
    "print(solution('1S2D*3T'))\n",
    "print(solution('1D2S#10S'))\n",
    "print(solution('1D2S0T'))\n",
    "print(solution('1S*2T*3S'))"
   ]
  }
 ],
 "metadata": {
  "kernelspec": {
   "display_name": "Python 3",
   "language": "python",
   "name": "python3"
  },
  "language_info": {
   "codemirror_mode": {
    "name": "ipython",
    "version": 3
   },
   "file_extension": ".py",
   "mimetype": "text/x-python",
   "name": "python",
   "nbconvert_exporter": "python",
   "pygments_lexer": "ipython3",
   "version": "3.8.8"
  },
  "toc": {
   "base_numbering": 1,
   "nav_menu": {},
   "number_sections": true,
   "sideBar": true,
   "skip_h1_title": false,
   "title_cell": "Table of Contents",
   "title_sidebar": "Contents",
   "toc_cell": false,
   "toc_position": {},
   "toc_section_display": true,
   "toc_window_display": false
  }
 },
 "nbformat": 4,
 "nbformat_minor": 5
}
