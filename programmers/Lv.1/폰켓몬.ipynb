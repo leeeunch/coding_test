{
 "cells": [
  {
   "cell_type": "markdown",
   "id": "78003cb1",
   "metadata": {},
   "source": [
    "주어진 폰켓몬의 1/2개만큼 폰켓몬을 가져갈 수 있다.\n",
    "\n",
    "가장 많이 가질 수 있는 폰켓몬 종류의 수는?\n"
   ]
  },
  {
   "cell_type": "code",
   "execution_count": 18,
   "id": "0966050c",
   "metadata": {},
   "outputs": [],
   "source": [
    "def solution(nums):\n",
    "    if len(set(nums)) > len(nums)//2:\n",
    "        return len(nums)//2\n",
    "    else:\n",
    "        return len(set(nums))"
   ]
  },
  {
   "cell_type": "code",
   "execution_count": 19,
   "id": "e6a47693",
   "metadata": {},
   "outputs": [
    {
     "name": "stdout",
     "output_type": "stream",
     "text": [
      "2\n",
      "3\n"
     ]
    }
   ],
   "source": [
    "print(solution([3,1,2,3]))\n",
    "print(solution([3,3,3,2,2,4]))"
   ]
  }
 ],
 "metadata": {
  "kernelspec": {
   "display_name": "Python 3",
   "language": "python",
   "name": "python3"
  },
  "language_info": {
   "codemirror_mode": {
    "name": "ipython",
    "version": 3
   },
   "file_extension": ".py",
   "mimetype": "text/x-python",
   "name": "python",
   "nbconvert_exporter": "python",
   "pygments_lexer": "ipython3",
   "version": "3.8.8"
  },
  "toc": {
   "base_numbering": 1,
   "nav_menu": {},
   "number_sections": true,
   "sideBar": true,
   "skip_h1_title": false,
   "title_cell": "Table of Contents",
   "title_sidebar": "Contents",
   "toc_cell": false,
   "toc_position": {},
   "toc_section_display": true,
   "toc_window_display": false
  }
 },
 "nbformat": 4,
 "nbformat_minor": 5
}
