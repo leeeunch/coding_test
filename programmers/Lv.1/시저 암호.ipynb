{
 "cells": [
  {
   "cell_type": "markdown",
   "id": "6c9d4a3f",
   "metadata": {},
   "source": [
    "어떤 문장의 각 알파벳을 일정한 거리만큼 밀어서 다른 알파벳으로 바꾸는 암호화 방식을 시저 암호라 한다.\n",
    "\n",
    "예를 들어 \"AB\"는 1만큼 밀면 \"BC\"가 된다. 그리고 \"Z\"는 1만큼 밀면 \"A\"가 된다."
   ]
  },
  {
   "cell_type": "code",
   "execution_count": 2,
   "id": "c74dd97a",
   "metadata": {},
   "outputs": [],
   "source": [
    "def solution(s, n):\n",
    "    large_split = ['A', 'B', 'C', 'D', 'E', 'F', 'G', 'H', 'I', 'J', 'K', 'L', 'M', 'N', 'O', 'P', 'Q', 'R', 'S', 'T', 'U', 'V', 'W', 'X', 'Y', 'Z']\n",
    "    small_split = ['a', 'b', 'c', 'd', 'e', 'f', 'g', 'h', 'i', 'j', 'k', 'l', 'm', 'n', 'o', 'p', 'q', 'r', 's', 't', 'u', 'v', 'w', 'x', 'y', 'z']\n",
    "    answer = ''\n",
    "    a = [i for i in s]\n",
    "    for i in a:\n",
    "        if i in small_split:\n",
    "            if small_split.index(i)+n < 25: \n",
    "                answer += small_split[small_split.index(i)+n]\n",
    "            else:\n",
    "                answer += small_split[small_split.index(i)-26+n]\n",
    "        elif i in large_split:\n",
    "            if large_split.index(i)+n < 25:\n",
    "                answer += large_split[large_split.index(i)+n]\n",
    "            else:\n",
    "                answer += large_split[large_split.index(i)+n-26]\n",
    "        else:\n",
    "            answer += ' '\n",
    "    return answer"
   ]
  },
  {
   "cell_type": "code",
   "execution_count": 3,
   "id": "1dc5d7bc",
   "metadata": {},
   "outputs": [
    {
     "data": {
      "text/plain": [
       "'cD'"
      ]
     },
     "execution_count": 3,
     "metadata": {},
     "output_type": "execute_result"
    }
   ],
   "source": [
    "solution('aB',2)"
   ]
  }
 ],
 "metadata": {
  "kernelspec": {
   "display_name": "Python 3",
   "language": "python",
   "name": "python3"
  },
  "language_info": {
   "codemirror_mode": {
    "name": "ipython",
    "version": 3
   },
   "file_extension": ".py",
   "mimetype": "text/x-python",
   "name": "python",
   "nbconvert_exporter": "python",
   "pygments_lexer": "ipython3",
   "version": "3.8.8"
  },
  "toc": {
   "base_numbering": 1,
   "nav_menu": {},
   "number_sections": true,
   "sideBar": true,
   "skip_h1_title": false,
   "title_cell": "Table of Contents",
   "title_sidebar": "Contents",
   "toc_cell": false,
   "toc_position": {},
   "toc_section_display": true,
   "toc_window_display": false
  }
 },
 "nbformat": 4,
 "nbformat_minor": 5
}
