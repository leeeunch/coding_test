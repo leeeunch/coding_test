{
 "cells": [
  {
   "cell_type": "markdown",
   "id": "cd138f79",
   "metadata": {},
   "source": [
    "정수 n을 입력박아 n의 약수를 모두 더한 값을 리턴하는 함수를 완성해주세요."
   ]
  },
  {
   "cell_type": "code",
   "execution_count": 14,
   "id": "b4eede82",
   "metadata": {},
   "outputs": [],
   "source": [
    "def solution(n):\n",
    "    return sum([i for i in range(1,n+1) if n%i == 0 ])"
   ]
  },
  {
   "cell_type": "code",
   "execution_count": 16,
   "id": "15023ab2",
   "metadata": {},
   "outputs": [
    {
     "data": {
      "text/plain": [
       "28"
      ]
     },
     "execution_count": 16,
     "metadata": {},
     "output_type": "execute_result"
    }
   ],
   "source": [
    "solution(12)"
   ]
  }
 ],
 "metadata": {
  "kernelspec": {
   "display_name": "Python 3",
   "language": "python",
   "name": "python3"
  },
  "language_info": {
   "codemirror_mode": {
    "name": "ipython",
    "version": 3
   },
   "file_extension": ".py",
   "mimetype": "text/x-python",
   "name": "python",
   "nbconvert_exporter": "python",
   "pygments_lexer": "ipython3",
   "version": "3.8.8"
  },
  "toc": {
   "base_numbering": 1,
   "nav_menu": {},
   "number_sections": true,
   "sideBar": true,
   "skip_h1_title": false,
   "title_cell": "Table of Contents",
   "title_sidebar": "Contents",
   "toc_cell": false,
   "toc_position": {},
   "toc_section_display": true,
   "toc_window_display": false
  }
 },
 "nbformat": 4,
 "nbformat_minor": 5
}
