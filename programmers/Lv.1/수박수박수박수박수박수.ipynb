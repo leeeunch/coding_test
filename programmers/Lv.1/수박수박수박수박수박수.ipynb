{
 "cells": [
  {
   "cell_type": "markdown",
   "id": "71894ba6",
   "metadata": {},
   "source": [
    "길이가 n이고, \"수박수박수박수....\"와 같은 패턴을 유지하는 문자열을 리턴하는 함수, solution을 완성하세요. 예를들어 n이 4이면 \"수박수박\"을 리턴하고 3이라면 \"수박수\"를 리턴하면 됩니다."
   ]
  },
  {
   "cell_type": "code",
   "execution_count": 37,
   "id": "d2b796ea",
   "metadata": {},
   "outputs": [],
   "source": [
    "def solution(n):\n",
    "    return ''.join([\"박\" if i%2 else \"수\" for i in range(n)])"
   ]
  },
  {
   "cell_type": "code",
   "execution_count": 38,
   "id": "14947e8f",
   "metadata": {},
   "outputs": [
    {
     "data": {
      "text/plain": [
       "'수박수'"
      ]
     },
     "execution_count": 38,
     "metadata": {},
     "output_type": "execute_result"
    }
   ],
   "source": [
    "solution(3)"
   ]
  }
 ],
 "metadata": {
  "kernelspec": {
   "display_name": "Python 3",
   "language": "python",
   "name": "python3"
  },
  "language_info": {
   "codemirror_mode": {
    "name": "ipython",
    "version": 3
   },
   "file_extension": ".py",
   "mimetype": "text/x-python",
   "name": "python",
   "nbconvert_exporter": "python",
   "pygments_lexer": "ipython3",
   "version": "3.8.8"
  },
  "toc": {
   "base_numbering": 1,
   "nav_menu": {},
   "number_sections": true,
   "sideBar": true,
   "skip_h1_title": false,
   "title_cell": "Table of Contents",
   "title_sidebar": "Contents",
   "toc_cell": false,
   "toc_position": {},
   "toc_section_display": true,
   "toc_window_display": false
  }
 },
 "nbformat": 4,
 "nbformat_minor": 5
}
