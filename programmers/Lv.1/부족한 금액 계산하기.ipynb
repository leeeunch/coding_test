{
 "cells": [
  {
   "cell_type": "markdown",
   "id": "6b477abe",
   "metadata": {},
   "source": [
    "- price : 원래 이용료\n",
    "- 놀이기구 N번 째 이용시 원래 이용료의 N배 내야함\n",
    "-놀이기구를 count번 타게 되면 현재 갖고 있는 금액 money에서 얼마만큼 부족한지 return하는 함수 작성"
   ]
  },
  {
   "cell_type": "code",
   "execution_count": 22,
   "id": "f861a330",
   "metadata": {},
   "outputs": [],
   "source": [
    "def solution(price, money, count):\n",
    "    sum_price = sum(price*i for i in range(1, count+1)) \n",
    "    return sum_price - money if sum_price > money else 0"
   ]
  },
  {
   "cell_type": "code",
   "execution_count": 25,
   "id": "d7af4934",
   "metadata": {},
   "outputs": [
    {
     "name": "stdout",
     "output_type": "stream",
     "text": [
      "10\n",
      "0\n"
     ]
    }
   ],
   "source": [
    "print(solution(3, 20, 4))\n",
    "print(solution(100, 1000, 3))"
   ]
  }
 ],
 "metadata": {
  "kernelspec": {
   "display_name": "Python 3",
   "language": "python",
   "name": "python3"
  },
  "language_info": {
   "codemirror_mode": {
    "name": "ipython",
    "version": 3
   },
   "file_extension": ".py",
   "mimetype": "text/x-python",
   "name": "python",
   "nbconvert_exporter": "python",
   "pygments_lexer": "ipython3",
   "version": "3.8.8"
  },
  "toc": {
   "base_numbering": 1,
   "nav_menu": {},
   "number_sections": true,
   "sideBar": true,
   "skip_h1_title": false,
   "title_cell": "Table of Contents",
   "title_sidebar": "Contents",
   "toc_cell": false,
   "toc_position": {},
   "toc_section_display": true,
   "toc_window_display": false
  }
 },
 "nbformat": 4,
 "nbformat_minor": 5
}
