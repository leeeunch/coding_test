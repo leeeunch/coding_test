{
 "cells": [
  {
   "cell_type": "markdown",
   "id": "2a6f2dd3",
   "metadata": {},
   "source": [
    "주어진 숫자 중 3개의 수를 더했을 때 소수가 되는 경우의 개수를 구하려 한다. 숫자들이 들어있는 배열 nums가 매개변수로 주어질 때, nums에 있는 숫자들 중 서로 다른 3개를 골라 더했을 때 소수가 되는 경우의 개수를 return 하도록 solution 함수를 완성하시오.\n",
    "\n",
    "* 소수 : 1보다 큰 자연수 중 1과 자기 자신만을 약수로 가지는 수"
   ]
  },
  {
   "cell_type": "code",
   "execution_count": 19,
   "id": "960fb30a",
   "metadata": {},
   "outputs": [],
   "source": [
    "def solution(arr):\n",
    "    from itertools import combinations\n",
    "    hap = [sum(i) for i in list(combinations(arr,3))]\n",
    "\n",
    "    measure = 0\n",
    "    for i in hap:\n",
    "        sosu = True\n",
    "        for j in range(2,i):\n",
    "            if i%j == 0:\n",
    "                sosu = False\n",
    "                break\n",
    "        if sosu:\n",
    "            measure += 1\n",
    "    return measure"
   ]
  },
  {
   "cell_type": "code",
   "execution_count": 20,
   "id": "a6353cdb",
   "metadata": {},
   "outputs": [
    {
     "name": "stdout",
     "output_type": "stream",
     "text": [
      "1\n",
      "4\n"
     ]
    }
   ],
   "source": [
    "print(solution([1,2,3,4]))\n",
    "print(solution([1,2,7,6,4]))"
   ]
  }
 ],
 "metadata": {
  "kernelspec": {
   "display_name": "Python 3",
   "language": "python",
   "name": "python3"
  },
  "language_info": {
   "codemirror_mode": {
    "name": "ipython",
    "version": 3
   },
   "file_extension": ".py",
   "mimetype": "text/x-python",
   "name": "python",
   "nbconvert_exporter": "python",
   "pygments_lexer": "ipython3",
   "version": "3.8.8"
  },
  "toc": {
   "base_numbering": 1,
   "nav_menu": {},
   "number_sections": true,
   "sideBar": true,
   "skip_h1_title": false,
   "title_cell": "Table of Contents",
   "title_sidebar": "Contents",
   "toc_cell": false,
   "toc_position": {},
   "toc_section_display": true,
   "toc_window_display": false
  }
 },
 "nbformat": 4,
 "nbformat_minor": 5
}
