{
 "cells": [
  {
   "cell_type": "code",
   "execution_count": 30,
   "id": "e71931a4",
   "metadata": {},
   "outputs": [],
   "source": [
    "def solution(answers):\n",
    "    a = [1,2,3,4,5]\n",
    "    b = [2,1,2,3,2,4,2,5,2]\n",
    "    c = [3,3,1,1,2,2,4,4,5,5]\n",
    "    n = len(answers)\n",
    "    right = [0]\n",
    "    max_right = []\n",
    "    for i in [a,b,c]:\n",
    "        num_answer = 0\n",
    "        if n > len(i):\n",
    "            i += i[:n-len(i)]\n",
    "        for j in range(n):\n",
    "            if i[j] == answers[j]:\n",
    "                num_answer += 1\n",
    "        right.append(num_answer)\n",
    "    for i in range(len(right)):\n",
    "        \n",
    "        if max(right) == right[i]:\n",
    "            max_right.append(i)\n",
    "    return sorted(max_right)"
   ]
  },
  {
   "cell_type": "code",
   "execution_count": 31,
   "id": "30f7a5ef",
   "metadata": {},
   "outputs": [
    {
     "name": "stdout",
     "output_type": "stream",
     "text": [
      "[1]\n",
      "[1, 2, 3]\n"
     ]
    }
   ],
   "source": [
    "print(solution([1,2,3,4,5]))\n",
    "print(solution([1,3,2,4,2]))"
   ]
  }
 ],
 "metadata": {
  "kernelspec": {
   "display_name": "Python 3",
   "language": "python",
   "name": "python3"
  },
  "language_info": {
   "codemirror_mode": {
    "name": "ipython",
    "version": 3
   },
   "file_extension": ".py",
   "mimetype": "text/x-python",
   "name": "python",
   "nbconvert_exporter": "python",
   "pygments_lexer": "ipython3",
   "version": "3.8.8"
  },
  "toc": {
   "base_numbering": 1,
   "nav_menu": {},
   "number_sections": true,
   "sideBar": true,
   "skip_h1_title": false,
   "title_cell": "Table of Contents",
   "title_sidebar": "Contents",
   "toc_cell": false,
   "toc_position": {},
   "toc_section_display": true,
   "toc_window_display": false
  }
 },
 "nbformat": 4,
 "nbformat_minor": 5
}
