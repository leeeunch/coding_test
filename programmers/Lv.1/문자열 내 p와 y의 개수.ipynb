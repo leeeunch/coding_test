{
 "cells": [
  {
   "cell_type": "markdown",
   "id": "a749b9cd",
   "metadata": {},
   "source": [
    "대문자와 소문자가 섞여있는 문자열 s가 주어집니다. s에 'p'의 개수와 'y'의 개수를 비교해 같으면 True, 다르면 False를 return 하는 solution를 완성하세요. 'p', 'y' 모두 하나도 없는 경우는 항상 True를 리턴합니다. 단, 개수를 비교할 때 대문자와 소문자는 구별하지 않습니다.\n",
    "\n",
    "예를 들어 s가 \"pPoooyY\"면 true를 return하고 \"Pyy\"라면 false를 return합니다."
   ]
  },
  {
   "cell_type": "code",
   "execution_count": 18,
   "id": "391c3717",
   "metadata": {},
   "outputs": [],
   "source": [
    "def solution(s):\n",
    "    from collections import defaultdict\n",
    "    count_py = defaultdict(int)\n",
    "    for i in s.upper():\n",
    "        count_py[i] += 1\n",
    "    return count_py.get('P') == count_py.get('Y')"
   ]
  },
  {
   "cell_type": "code",
   "execution_count": 22,
   "id": "eac7cced",
   "metadata": {},
   "outputs": [
    {
     "name": "stdout",
     "output_type": "stream",
     "text": [
      "True\n",
      "True\n"
     ]
    }
   ],
   "source": [
    "print(solution(\"pPoooyY\"))\n",
    "print(solution(\"asdg\"))"
   ]
  }
 ],
 "metadata": {
  "kernelspec": {
   "display_name": "Python 3",
   "language": "python",
   "name": "python3"
  },
  "language_info": {
   "codemirror_mode": {
    "name": "ipython",
    "version": 3
   },
   "file_extension": ".py",
   "mimetype": "text/x-python",
   "name": "python",
   "nbconvert_exporter": "python",
   "pygments_lexer": "ipython3",
   "version": "3.8.8"
  },
  "toc": {
   "base_numbering": 1,
   "nav_menu": {},
   "number_sections": true,
   "sideBar": true,
   "skip_h1_title": false,
   "title_cell": "Table of Contents",
   "title_sidebar": "Contents",
   "toc_cell": false,
   "toc_position": {},
   "toc_section_display": true,
   "toc_window_display": false
  }
 },
 "nbformat": 4,
 "nbformat_minor": 5
}
