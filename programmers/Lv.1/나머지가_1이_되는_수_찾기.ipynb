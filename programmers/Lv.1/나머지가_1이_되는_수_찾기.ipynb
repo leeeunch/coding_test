{
  "nbformat": 4,
  "nbformat_minor": 0,
  "metadata": {
    "colab": {
      "name": "나머지가 1이 되는 수 찾기.ipynb",
      "provenance": []
    },
    "kernelspec": {
      "name": "python3",
      "display_name": "Python 3"
    },
    "language_info": {
      "name": "python"
    }
  },
  "cells": [
    {
      "cell_type": "markdown",
      "source": [
        "자연수 n이 매개변수로 주어집니다. n을 x로 나눈 나머지가 1이 되도록 하는 가장 작은 자연수 x를 return 하도록 solution 함수를 완성해주세요. 답이 항상 존재함은 증명될 수 있습니다."
      ],
      "metadata": {
        "id": "WytOQSqEROt5"
      }
    },
    {
      "cell_type": "code",
      "source": [
        "def solution(n):\n",
        "  return min((i for i in range(1,n) if n%i == 1))"
      ],
      "metadata": {
        "id": "XGfn5qtmRw08"
      },
      "execution_count": 25,
      "outputs": []
    },
    {
      "cell_type": "code",
      "source": [
        "print(solution(10))\n",
        "print(solution(12))"
      ],
      "metadata": {
        "colab": {
          "base_uri": "https://localhost:8080/"
        },
        "id": "-AXm67IhRr6X",
        "outputId": "f79822d7-1e70-4c15-9392-4471b74443db"
      },
      "execution_count": 26,
      "outputs": [
        {
          "output_type": "stream",
          "name": "stdout",
          "text": [
            "3\n",
            "11\n"
          ]
        }
      ]
    }
  ]
}