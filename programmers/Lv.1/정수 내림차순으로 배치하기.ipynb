{
 "cells": [
  {
   "cell_type": "markdown",
   "id": "1b2c8ca3",
   "metadata": {},
   "source": [
    "함수 solution은 정수 n을 매개변수로 입력받는다. n의 각 자릿수를 큰 것부터 작은 순으로 정렬한 새로운 정수를 리턴해라. "
   ]
  },
  {
   "cell_type": "code",
   "execution_count": 1,
   "id": "ebdb0e4f",
   "metadata": {},
   "outputs": [],
   "source": [
    "def solution(n):\n",
    "    n = int(n)\n",
    "    answer = ''\n",
    "    list_n = list(map(int, str(n)))\n",
    "    list_n.sort(reverse = True)\n",
    "    for i in list_n:\n",
    "        answer += str(i)\n",
    "    return int(answer)"
   ]
  },
  {
   "cell_type": "code",
   "execution_count": 2,
   "id": "54770765",
   "metadata": {},
   "outputs": [
    {
     "data": {
      "text/plain": [
       "98421"
      ]
     },
     "execution_count": 2,
     "metadata": {},
     "output_type": "execute_result"
    }
   ],
   "source": [
    "solution(48219)"
   ]
  }
 ],
 "metadata": {
  "kernelspec": {
   "display_name": "Python 3",
   "language": "python",
   "name": "python3"
  },
  "language_info": {
   "codemirror_mode": {
    "name": "ipython",
    "version": 3
   },
   "file_extension": ".py",
   "mimetype": "text/x-python",
   "name": "python",
   "nbconvert_exporter": "python",
   "pygments_lexer": "ipython3",
   "version": "3.8.8"
  },
  "toc": {
   "base_numbering": 1,
   "nav_menu": {},
   "number_sections": true,
   "sideBar": true,
   "skip_h1_title": false,
   "title_cell": "Table of Contents",
   "title_sidebar": "Contents",
   "toc_cell": false,
   "toc_position": {},
   "toc_section_display": true,
   "toc_window_display": false
  }
 },
 "nbformat": 4,
 "nbformat_minor": 5
}
